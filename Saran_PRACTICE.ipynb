{
  "cells": [
    {
      "cell_type": "markdown",
      "metadata": {
        "id": "view-in-github",
        "colab_type": "text"
      },
      "source": [
        "<a href=\"https://colab.research.google.com/github/sarank-21/Python-Basic/blob/main/Saran_PRACTICE.ipynb\" target=\"_parent\"><img src=\"https://colab.research.google.com/assets/colab-badge.svg\" alt=\"Open In Colab\"/></a>"
      ]
    },
    {
      "cell_type": "markdown",
      "source": [
        "### **String Practice with For Loop, If-Else, and Slicing**"
      ],
      "metadata": {
        "id": "pHqXAvcj84s1"
      }
    },
    {
      "cell_type": "markdown",
      "source": [
        "#### 1. **Capitalize first letter**\n",
        "\n",
        "* **Input:** `\"python\"`\n",
        "* **Output:** `\"Python\"`"
      ],
      "metadata": {
        "id": "FBptyfcL9GAM"
      }
    },
    {
      "cell_type": "code",
      "execution_count": null,
      "metadata": {
        "id": "2JdsVDvhwPWL",
        "colab": {
          "base_uri": "https://localhost:8080/",
          "height": 53
        },
        "outputId": "779f40a8-186c-4e7f-b5da-b6c6a6be527f"
      },
      "outputs": [
        {
          "name": "stdout",
          "output_type": "stream",
          "text": [
            "python\n"
          ]
        },
        {
          "output_type": "execute_result",
          "data": {
            "text/plain": [
              "'Python'"
            ],
            "application/vnd.google.colaboratory.intrinsic+json": {
              "type": "string"
            }
          },
          "metadata": {},
          "execution_count": 2
        }
      ],
      "source": [
        "first_letter=input()\n",
        "first_letter.capitalize()"
      ]
    },
    {
      "cell_type": "markdown",
      "source": [
        "2. **Check if string starts with \"A\"**\n",
        "\n",
        "* **Input:** `\"Apple\"`\n",
        "* **Output:** `\"Starts with A\"`"
      ],
      "metadata": {
        "id": "J-m6J7Rg9W0U"
      }
    },
    {
      "cell_type": "code",
      "source": [
        "fruit = input()\n",
        "if fruits.startswith(\"A\"):\n",
        "  print('Starts with A')"
      ],
      "metadata": {
        "colab": {
          "base_uri": "https://localhost:8080/"
        },
        "id": "cRxrrANu9V6c",
        "outputId": "c77f2371-3fd5-414e-9c7c-1e1aa222f9a8"
      },
      "execution_count": null,
      "outputs": [
        {
          "output_type": "stream",
          "name": "stdout",
          "text": [
            "Apple\n",
            "Starts with A\n"
          ]
        }
      ]
    },
    {
      "cell_type": "markdown",
      "source": [
        "#### 3. **Print each character on a new line**\n",
        "\n",
        "* **Input:** `\"cat\"`\n",
        "* **Output:**\n",
        "\n",
        "  ```\n",
        "  c\n",
        "  a\n",
        "  t\n",
        "  ```"
      ],
      "metadata": {
        "id": "Kj7BFg-T9iDU"
      }
    },
    {
      "cell_type": "code",
      "source": [
        "animal=input()\n",
        "for i in animal:\n",
        "  print(i)"
      ],
      "metadata": {
        "id": "QVlNFQxi9bqU",
        "colab": {
          "base_uri": "https://localhost:8080/"
        },
        "outputId": "930cdce5-b847-4a97-a958-b1f699773f3d"
      },
      "execution_count": null,
      "outputs": [
        {
          "output_type": "stream",
          "name": "stdout",
          "text": [
            "cat\n",
            "c\n",
            "a\n",
            "t\n"
          ]
        }
      ]
    },
    {
      "cell_type": "markdown",
      "source": [
        "#### 4. **Count vowels in a string**\n",
        "\n",
        "* **Input:** `\"hello world\"`\n",
        "* **Output:** `3`"
      ],
      "metadata": {
        "id": "MXzjjyTt9oB8"
      }
    },
    {
      "cell_type": "code",
      "source": [
        "variables=input()\n",
        "vowels=('aeiouAEIOU')\n",
        "count=0\n",
        "for i in variables:\n",
        "  if i in vowels:\n",
        "    count+=1\n",
        "print(f'{count}')"
      ],
      "metadata": {
        "id": "i1vwZwt59bnN",
        "colab": {
          "base_uri": "https://localhost:8080/"
        },
        "outputId": "02f68df1-b015-4803-c357-50e3691ed23a"
      },
      "execution_count": null,
      "outputs": [
        {
          "output_type": "stream",
          "name": "stdout",
          "text": [
            "apple\n",
            "2\n"
          ]
        }
      ]
    },
    {
      "cell_type": "markdown",
      "source": [
        "#### 5. **Reverse a string**\n",
        "\n",
        "* **Input:** `\"data\"`\n",
        "* **Output:** `\"atad\"`"
      ],
      "metadata": {
        "id": "TXFPshyj9r7k"
      }
    },
    {
      "cell_type": "code",
      "source": [
        "modify=input()\n",
        "modify[::-1]"
      ],
      "metadata": {
        "id": "uQPZitIp9bkE",
        "colab": {
          "base_uri": "https://localhost:8080/",
          "height": 53
        },
        "outputId": "04cdb725-6025-4eac-c162-a24f2c27f0e7"
      },
      "execution_count": null,
      "outputs": [
        {
          "name": "stdout",
          "output_type": "stream",
          "text": [
            "data\n"
          ]
        },
        {
          "output_type": "execute_result",
          "data": {
            "text/plain": [
              "'atad'"
            ],
            "application/vnd.google.colaboratory.intrinsic+json": {
              "type": "string"
            }
          },
          "metadata": {},
          "execution_count": 36
        }
      ]
    },
    {
      "cell_type": "markdown",
      "source": [
        "#### 6. **Extract first 3 characters**\n",
        "\n",
        "* **Input:** `\"elephant\"`\n",
        "* **Output:** `\"ele\"`"
      ],
      "metadata": {
        "id": "rpeBC9OT9w2M"
      }
    },
    {
      "cell_type": "code",
      "source": [
        "char=input()\n",
        "char[0:3]"
      ],
      "metadata": {
        "id": "_mZUoJLf9bhM",
        "colab": {
          "base_uri": "https://localhost:8080/",
          "height": 53
        },
        "outputId": "ce7fd8f1-890a-4b9a-c446-77eee7da8fa1"
      },
      "execution_count": null,
      "outputs": [
        {
          "name": "stdout",
          "output_type": "stream",
          "text": [
            "elephant\n"
          ]
        },
        {
          "output_type": "execute_result",
          "data": {
            "text/plain": [
              "'ele'"
            ],
            "application/vnd.google.colaboratory.intrinsic+json": {
              "type": "string"
            }
          },
          "metadata": {},
          "execution_count": 38
        }
      ]
    },
    {
      "cell_type": "markdown",
      "source": [
        "#### 7. **Replace spaces with underscore**\n",
        "\n",
        "* **Input:** `\"my name is python\"`\n",
        "* **Output:** `\"my_name_is_python\"`"
      ],
      "metadata": {
        "id": "cyFU3Q-j90TU"
      }
    },
    {
      "cell_type": "code",
      "source": [
        "word=input()\n",
        "word.replace(' ','_')"
      ],
      "metadata": {
        "id": "6nzcja9n9beM",
        "colab": {
          "base_uri": "https://localhost:8080/",
          "height": 53
        },
        "outputId": "03d354b2-9a66-4416-97af-cccd5818880e"
      },
      "execution_count": null,
      "outputs": [
        {
          "name": "stdout",
          "output_type": "stream",
          "text": [
            "my name is python\n"
          ]
        },
        {
          "output_type": "execute_result",
          "data": {
            "text/plain": [
              "'my_name_is_python'"
            ],
            "application/vnd.google.colaboratory.intrinsic+json": {
              "type": "string"
            }
          },
          "metadata": {},
          "execution_count": 41
        }
      ]
    },
    {
      "cell_type": "markdown",
      "source": [
        "#### 8. **Check if string contains 'data'**\n",
        "\n",
        "* **Input:** `\"data engineer\"`\n",
        "* **Output:** `\"Yes\"`"
      ],
      "metadata": {
        "id": "3_gM3tlP93kd"
      }
    },
    {
      "cell_type": "code",
      "source": [
        "string=input()\n",
        "if 'data'in string:\n",
        "  print('yes')"
      ],
      "metadata": {
        "id": "GUNJzYi_9bbU",
        "colab": {
          "base_uri": "https://localhost:8080/"
        },
        "outputId": "967c19e0-32f7-4cd2-853b-39a1b9877f3a"
      },
      "execution_count": null,
      "outputs": [
        {
          "output_type": "stream",
          "name": "stdout",
          "text": [
            "data engineer\n",
            "yes\n"
          ]
        }
      ]
    },
    {
      "cell_type": "markdown",
      "source": [
        "#### 9. **Repeat string n times**\n",
        "\n",
        "* **Input:** `\"hi\", 3`\n",
        "* **Output:** `\"hihihi\"`\n"
      ],
      "metadata": {
        "id": "pL2t7XiK97Qs"
      }
    },
    {
      "cell_type": "code",
      "source": [
        "word=input()\n",
        "print(f'\"{word*3}\"')"
      ],
      "metadata": {
        "id": "6W0XtVic9bYc",
        "colab": {
          "base_uri": "https://localhost:8080/"
        },
        "outputId": "9ace0eb0-641d-4ec2-9c72-5e2046d662f4"
      },
      "execution_count": null,
      "outputs": [
        {
          "output_type": "stream",
          "name": "stdout",
          "text": [
            "hi\n",
            "\"hihihi\"\n"
          ]
        }
      ]
    },
    {
      "cell_type": "markdown",
      "source": [
        "#### 10. **Count how many times 'a' appears**\n",
        "\n",
        "* **Input:** `\"banana\"`\n",
        "* **Output:** `3`"
      ],
      "metadata": {
        "id": "3Blsxxjv9-21"
      }
    },
    {
      "cell_type": "code",
      "source": [
        "fruits=input()\n",
        "fruits.count('a')"
      ],
      "metadata": {
        "id": "9ipODqq69bVU",
        "colab": {
          "base_uri": "https://localhost:8080/"
        },
        "outputId": "2d7987c6-62f8-4d9a-9237-d9c72b3bf7fd"
      },
      "execution_count": null,
      "outputs": [
        {
          "name": "stdout",
          "output_type": "stream",
          "text": [
            "banana\n"
          ]
        },
        {
          "output_type": "execute_result",
          "data": {
            "text/plain": [
              "3"
            ]
          },
          "metadata": {},
          "execution_count": 45
        }
      ]
    },
    {
      "cell_type": "markdown",
      "source": [
        "#### 11. **Convert to uppercase**\n",
        "\n",
        "* **Input:** `\"hello\"`\n",
        "* **Output:** `\"HELLO\"`\n"
      ],
      "metadata": {
        "id": "8g9JaDwE-Hs8"
      }
    },
    {
      "cell_type": "code",
      "source": [
        "letter=input()\n",
        "letter.upper()"
      ],
      "metadata": {
        "id": "WtzNFtlY9bSc",
        "colab": {
          "base_uri": "https://localhost:8080/",
          "height": 53
        },
        "outputId": "7b9cf66e-dd31-4b84-ea9f-f42e31d441cc"
      },
      "execution_count": null,
      "outputs": [
        {
          "name": "stdout",
          "output_type": "stream",
          "text": [
            "hello\n"
          ]
        },
        {
          "output_type": "execute_result",
          "data": {
            "text/plain": [
              "'HELLO'"
            ],
            "application/vnd.google.colaboratory.intrinsic+json": {
              "type": "string"
            }
          },
          "metadata": {},
          "execution_count": 46
        }
      ]
    },
    {
      "cell_type": "markdown",
      "source": [
        "#### 12. **Format a welcome message**\n",
        "\n",
        "* **Input:** `name = \"Sam\"`\n",
        "* **Output:** `\"Welcome, Sam!\"`\n"
      ],
      "metadata": {
        "id": "nFysfwUt-M_N"
      }
    },
    {
      "cell_type": "code",
      "source": [
        "name=input()\n",
        "print(f'\"welcome,{name}!\"')"
      ],
      "metadata": {
        "id": "KKMX-zEP9bB0",
        "colab": {
          "base_uri": "https://localhost:8080/"
        },
        "outputId": "c10f8efa-c445-486c-e0e5-8d79f2013fb2"
      },
      "execution_count": null,
      "outputs": [
        {
          "output_type": "stream",
          "name": "stdout",
          "text": [
            "sam\n",
            "\"welcome,sam!\"\n"
          ]
        }
      ]
    },
    {
      "cell_type": "markdown",
      "source": [
        "#### 13. **Print only even indexed characters**\n",
        "\n",
        "* **Input:** `\"python\"`\n",
        "* **Output:** `\"pto\"`"
      ],
      "metadata": {
        "id": "gRmvIP5f-Tqk"
      }
    },
    {
      "cell_type": "code",
      "source": [
        "chara=input()\n",
        "chara[::2]"
      ],
      "metadata": {
        "id": "0Af-vnhR-TB1",
        "colab": {
          "base_uri": "https://localhost:8080/",
          "height": 53
        },
        "outputId": "c513852d-8303-46b2-ed96-b950469399c5"
      },
      "execution_count": null,
      "outputs": [
        {
          "name": "stdout",
          "output_type": "stream",
          "text": [
            "python\n"
          ]
        },
        {
          "output_type": "execute_result",
          "data": {
            "text/plain": [
              "'pto'"
            ],
            "application/vnd.google.colaboratory.intrinsic+json": {
              "type": "string"
            }
          },
          "metadata": {},
          "execution_count": 49
        }
      ]
    },
    {
      "cell_type": "markdown",
      "source": [
        "#### 14. **Check if a string is palindrome**\n",
        "\n",
        "* **Input:** `\"madam\"`\n",
        "* **Output:** `\"Palindrome\"`"
      ],
      "metadata": {
        "id": "Mv9wCA_g-acN"
      }
    },
    {
      "cell_type": "code",
      "source": [
        "string=input()\n",
        "if string==string[::-1]:\n",
        "  print('\"Palindrome\"')"
      ],
      "metadata": {
        "id": "Hr1w5CB9-Ztc",
        "colab": {
          "base_uri": "https://localhost:8080/"
        },
        "outputId": "44f1d499-9478-401c-ae37-520f5ed275f9"
      },
      "execution_count": null,
      "outputs": [
        {
          "output_type": "stream",
          "name": "stdout",
          "text": [
            "madam\n",
            "\"Palindrome\"\n"
          ]
        }
      ]
    },
    {
      "cell_type": "markdown",
      "source": [
        "#### 15. **Concatenate first and last character**\n",
        "\n",
        "* **Input:** `\"engineer\"`\n",
        "* **Output:** `\"er\"`"
      ],
      "metadata": {
        "id": "HZarwjoa-f3E"
      }
    },
    {
      "cell_type": "code",
      "source": [
        "chara=input()\n",
        "first_last=chara[0]+chara[-1]\n",
        "print(first_last)"
      ],
      "metadata": {
        "id": "NzrjT2dA-Zqd",
        "colab": {
          "base_uri": "https://localhost:8080/"
        },
        "outputId": "30f443aa-5b00-4e73-aacf-f912c151a706"
      },
      "execution_count": null,
      "outputs": [
        {
          "output_type": "stream",
          "name": "stdout",
          "text": [
            "engineer\n",
            "er\n"
          ]
        }
      ]
    },
    {
      "cell_type": "markdown",
      "source": [
        "#### 16. **Title case the string**\n",
        "\n",
        "* **Input:** `\"hello world\"`\n",
        "* **Output:** `\"Hello World\"`"
      ],
      "metadata": {
        "id": "AISma_O3-kUl"
      }
    },
    {
      "cell_type": "code",
      "source": [
        "string=input()\n",
        "change=string.title()\n",
        "print(change)"
      ],
      "metadata": {
        "id": "dB8_55kb-ZnU",
        "colab": {
          "base_uri": "https://localhost:8080/"
        },
        "outputId": "db21e8dc-607a-40f4-ae9b-c5d6c8b04686"
      },
      "execution_count": null,
      "outputs": [
        {
          "output_type": "stream",
          "name": "stdout",
          "text": [
            "hello world\n",
            "Hello World\n"
          ]
        }
      ]
    },
    {
      "cell_type": "markdown",
      "source": [
        "#### 17. **Add `*` between each character**\n",
        "\n",
        "* **Input:** `\"code\"`\n",
        "* **Output:** `\"c*o*d*e\"`"
      ],
      "metadata": {
        "id": "JWKSsX-h-n-d"
      }
    },
    {
      "cell_type": "code",
      "source": [
        "add=input()\n",
        "'*'.join(add)"
      ],
      "metadata": {
        "id": "0Z9ds6o--ZkV",
        "colab": {
          "base_uri": "https://localhost:8080/",
          "height": 53
        },
        "outputId": "e45b2bd4-b446-40e8-a765-52d6afa206e5"
      },
      "execution_count": null,
      "outputs": [
        {
          "name": "stdout",
          "output_type": "stream",
          "text": [
            "code\n"
          ]
        },
        {
          "output_type": "execute_result",
          "data": {
            "text/plain": [
              "'c*o*d*e'"
            ],
            "application/vnd.google.colaboratory.intrinsic+json": {
              "type": "string"
            }
          },
          "metadata": {},
          "execution_count": 56
        }
      ]
    },
    {
      "cell_type": "markdown",
      "source": [
        "#### 18. **Get last 4 characters**\n",
        "\n",
        "* **Input:** `\"development\"`\n",
        "* **Output:** `\"ment\"`"
      ],
      "metadata": {
        "id": "b1CaXQbY-sAl"
      }
    },
    {
      "cell_type": "code",
      "source": [
        "char=input()\n",
        "char[-4:]"
      ],
      "metadata": {
        "id": "VqLf1lLN-ZhM",
        "colab": {
          "base_uri": "https://localhost:8080/",
          "height": 53
        },
        "outputId": "6bbc9b4d-1be5-44a7-fa2d-f81ca0dd1a28"
      },
      "execution_count": null,
      "outputs": [
        {
          "name": "stdout",
          "output_type": "stream",
          "text": [
            "development\n"
          ]
        },
        {
          "output_type": "execute_result",
          "data": {
            "text/plain": [
              "'ment'"
            ],
            "application/vnd.google.colaboratory.intrinsic+json": {
              "type": "string"
            }
          },
          "metadata": {},
          "execution_count": 63
        }
      ]
    },
    {
      "cell_type": "markdown",
      "source": [
        "#### 19. **Mask all except last 4 characters with `*`**\n",
        "\n",
        "* **Input:** `\"1234567890\"`\n",
        "* **Output:** `\"******7890\"`"
      ],
      "metadata": {
        "id": "4lETkCTm-vq8"
      }
    },
    {
      "cell_type": "code",
      "source": [
        "mask=input()\n",
        "text='*'*(len(mask)-4)+mask[-4:]\n",
        "print(text)"
      ],
      "metadata": {
        "id": "uC01hWbL-Zdl",
        "colab": {
          "base_uri": "https://localhost:8080/"
        },
        "outputId": "db281067-2328-4d0d-e852-f1e17a409b43"
      },
      "execution_count": null,
      "outputs": [
        {
          "output_type": "stream",
          "name": "stdout",
          "text": [
            "1234567890\n",
            "******\n"
          ]
        }
      ]
    },
    {
      "cell_type": "markdown",
      "source": [
        "#### 20. **Find index of 'e'**\n",
        "\n",
        "* **Input:** `\"hello\"`\n",
        "* **Output:** `1`"
      ],
      "metadata": {
        "id": "vlqb7Ail-zaN"
      }
    },
    {
      "cell_type": "code",
      "source": [
        "text='hello'\n",
        "text.index('e')"
      ],
      "metadata": {
        "id": "ncDerxle-ZaN",
        "colab": {
          "base_uri": "https://localhost:8080/"
        },
        "outputId": "dca07ec3-8ac4-4cd4-e144-c8b5e5519236"
      },
      "execution_count": null,
      "outputs": [
        {
          "output_type": "execute_result",
          "data": {
            "text/plain": [
              "1"
            ]
          },
          "metadata": {},
          "execution_count": 80
        }
      ]
    },
    {
      "cell_type": "markdown",
      "source": [
        "#### 21. **Check if string has numbers**\n",
        "\n",
        "* **Input:** `\"abc123\"`\n",
        "* **Output:** `\"Contains Numbers\"`"
      ],
      "metadata": {
        "id": "zdVDCz6W-2jF"
      }
    },
    {
      "cell_type": "code",
      "source": [
        "letters=input()\n",
        "if letters.isalnum():\n",
        "  print('contains number')"
      ],
      "metadata": {
        "id": "ekmRtuYH-Yjt",
        "colab": {
          "base_uri": "https://localhost:8080/"
        },
        "outputId": "a6634926-b25a-4143-d95e-6e083b3ab758"
      },
      "execution_count": null,
      "outputs": [
        {
          "output_type": "stream",
          "name": "stdout",
          "text": [
            "abc123\n",
            "contains number\n"
          ]
        }
      ]
    },
    {
      "cell_type": "markdown",
      "source": [
        "#### 22. **Count digits in a string**\n",
        "\n",
        "* **Input:** `\"a1b2c3\"`\n",
        "* **Output:** `3`"
      ],
      "metadata": {
        "id": "D8rndQa_-6yF"
      }
    },
    {
      "cell_type": "code",
      "source": [
        "string=input()\n",
        "count=0\n",
        "for i in string:\n",
        "  if i.isalpha():\n",
        "    count+=1\n",
        "print(count)"
      ],
      "metadata": {
        "id": "CnEyXJ_j-5UV",
        "colab": {
          "base_uri": "https://localhost:8080/"
        },
        "outputId": "bd83b227-581f-496f-d02b-a635e1741615"
      },
      "execution_count": null,
      "outputs": [
        {
          "output_type": "stream",
          "name": "stdout",
          "text": [
            "abc123\n",
            "3\n"
          ]
        }
      ]
    },
    {
      "cell_type": "markdown",
      "source": [
        "#### 23. **Remove vowels**\n",
        "\n",
        "* **Input:** `\"education\"`\n",
        "* **Output:** `\"dctn\"`"
      ],
      "metadata": {
        "id": "MlcunsjA--bF"
      }
    },
    {
      "cell_type": "code",
      "source": [
        "text=input()\n",
        "vowels=('aeiouAEIOU')\n",
        "result=''\n",
        "for i in text:\n",
        "  if i not in vowels:\n",
        "    result +=i\n",
        "print(result)"
      ],
      "metadata": {
        "id": "VOxnzIcT-59l",
        "colab": {
          "base_uri": "https://localhost:8080/"
        },
        "outputId": "9aa73f93-7523-45db-c252-3608c5ef8d9c"
      },
      "execution_count": null,
      "outputs": [
        {
          "output_type": "stream",
          "name": "stdout",
          "text": [
            "I am shrey\n",
            " m shry\n"
          ]
        }
      ]
    },
    {
      "cell_type": "markdown",
      "source": [
        "#### 24. **Create acronym from phrase**\n",
        "\n",
        "* **Input:** `\"Data Science\"`\n",
        "* **Output:** `\"DS\"`"
      ],
      "metadata": {
        "id": "alJ-LENn_CEI"
      }
    },
    {
      "cell_type": "code",
      "source": [
        "text=input()\n",
        "word=text.title()\n",
        "result=''\n",
        "for i in word:\n",
        "  if i.isupper():\n",
        "    result+=i\n",
        "print(result)\n"
      ],
      "metadata": {
        "id": "vN0aoW1B-549",
        "colab": {
          "base_uri": "https://localhost:8080/"
        },
        "outputId": "3c31485d-b24e-4b58-bd3a-ab242ecbcb82"
      },
      "execution_count": null,
      "outputs": [
        {
          "output_type": "stream",
          "name": "stdout",
          "text": [
            "data science\n",
            "DS\n"
          ]
        }
      ]
    },
    {
      "cell_type": "markdown",
      "source": [
        "#### 25. **Replace 'a' with '@'**\n",
        "\n",
        "* **Input:** `\"alphabet\"`\n",
        "* **Output:** `\"@lph@bet\"`"
      ],
      "metadata": {
        "id": "vVL2Zgms_FGd"
      }
    },
    {
      "cell_type": "code",
      "source": [
        "text=input()\n",
        "text.replace('a','@')"
      ],
      "metadata": {
        "id": "5pbW8wNW-50l",
        "colab": {
          "base_uri": "https://localhost:8080/",
          "height": 53
        },
        "outputId": "62db9e5e-76fe-4704-a4a9-74134917a300"
      },
      "execution_count": null,
      "outputs": [
        {
          "name": "stdout",
          "output_type": "stream",
          "text": [
            "alphabet\n"
          ]
        },
        {
          "output_type": "execute_result",
          "data": {
            "text/plain": [
              "'@lph@bet'"
            ],
            "application/vnd.google.colaboratory.intrinsic+json": {
              "type": "string"
            }
          },
          "metadata": {},
          "execution_count": 98
        }
      ]
    },
    {
      "cell_type": "markdown",
      "source": [
        "#### 26. **Print string in staircase pattern**\n",
        "\n",
        "* **Input:** `\"test\"`\n",
        "* **Output:**\n",
        "\n",
        "  ```\n",
        "  t\n",
        "  te\n",
        "  tes\n",
        "  test\n",
        "  ```"
      ],
      "metadata": {
        "id": "pOuK8tJv_IRt"
      }
    },
    {
      "cell_type": "code",
      "source": [
        "n=input()\n",
        "for i in range(1,len(text)+1):\n",
        "  print(n[:i])"
      ],
      "metadata": {
        "id": "YnyqjVVB-5vd",
        "colab": {
          "base_uri": "https://localhost:8080/"
        },
        "outputId": "57ab88bf-c990-41ac-9913-3b1e6b8b091f"
      },
      "execution_count": null,
      "outputs": [
        {
          "output_type": "stream",
          "name": "stdout",
          "text": [
            "text\n",
            "t\n",
            "te\n",
            "tex\n",
            "text\n",
            "text\n"
          ]
        }
      ]
    },
    {
      "cell_type": "markdown",
      "source": [
        "#### 27. **Count lowercase and uppercase**\n",
        "\n",
        "* **Input:** `\"HeLLo\"`\n",
        "* **Output:** `\"Lower: 2, Upper: 3\"`\n"
      ],
      "metadata": {
        "id": "2ZkSAgTl_Lt9"
      }
    },
    {
      "cell_type": "code",
      "source": [
        "text=input()\n",
        "lower=0\n",
        "upper=0\n",
        "for i in text:\n",
        "  if i.isupper():\n",
        "    upper+=1\n",
        "  elif i.islower():\n",
        "    lower+=1\n",
        "print(f'lower:{lower},upper:{upper}')"
      ],
      "metadata": {
        "id": "oofYnuxF-5l9",
        "colab": {
          "base_uri": "https://localhost:8080/"
        },
        "outputId": "5d9dc1b9-73a4-4404-a084-607db2753a7a"
      },
      "execution_count": null,
      "outputs": [
        {
          "output_type": "stream",
          "name": "stdout",
          "text": [
            "HellO\n",
            "lower:3,upper:2\n"
          ]
        }
      ]
    },
    {
      "cell_type": "markdown",
      "source": [
        "#### 28. **Print first half of string**\n",
        "\n",
        "* **Input:** `\"python\"`\n",
        "* **Output:** `\"pyt\"`"
      ],
      "metadata": {
        "id": "KhUMjrD9_PVl"
      }
    },
    {
      "cell_type": "code",
      "source": [
        "text=input()\n",
        "half=len(text)//2\n",
        "print(text[:half])"
      ],
      "metadata": {
        "id": "iNb7jIH3_Ox_",
        "colab": {
          "base_uri": "https://localhost:8080/"
        },
        "outputId": "ecbaa9d0-306e-4078-b486-6ac79a039d94"
      },
      "execution_count": null,
      "outputs": [
        {
          "output_type": "stream",
          "name": "stdout",
          "text": [
            "saran\n",
            "sa\n"
          ]
        }
      ]
    },
    {
      "cell_type": "markdown",
      "source": [
        "#### 29. **Add space after every 2 characters**\n",
        "\n",
        "* **Input:** `\"abcdef\"`\n",
        "* **Output:** `\"ab cd ef\"`"
      ],
      "metadata": {
        "id": "fMUbDz_i_Tml"
      }
    },
    {
      "cell_type": "code",
      "source": [
        "word=input()\n",
        "count=0\n",
        "for i in word:\n",
        "  print(i,end='')\n",
        "  count+=1\n",
        "  if count==2:\n",
        "   print(' ',end='')\n",
        "   count=0"
      ],
      "metadata": {
        "id": "kggfXnkp_OvN",
        "colab": {
          "base_uri": "https://localhost:8080/"
        },
        "outputId": "022e07da-522a-49af-f3b5-c1e2b8ca3fce"
      },
      "execution_count": null,
      "outputs": [
        {
          "output_type": "stream",
          "name": "stdout",
          "text": [
            "abcdef\n",
            "ab cd ef "
          ]
        }
      ]
    },
    {
      "cell_type": "markdown",
      "source": [
        "#### 30. **Extract middle character (odd length only)**\n",
        "\n",
        "* **Input:** `\"hello\"`\n",
        "* **Output:** `\"l\"`"
      ],
      "metadata": {
        "id": "2ogsvdZw_WG1"
      }
    },
    {
      "cell_type": "code",
      "source": [
        "text=input()\n",
        "if len(text)%2!=0:\n",
        "  index=len(text)//2\n",
        "  print(text[index])\n"
      ],
      "metadata": {
        "id": "XimnqmgZ_OsN",
        "colab": {
          "base_uri": "https://localhost:8080/"
        },
        "outputId": "05c3d066-57b2-4580-8566-f82e04944f3d"
      },
      "execution_count": null,
      "outputs": [
        {
          "output_type": "stream",
          "name": "stdout",
          "text": [
            "saran\n",
            "r\n"
          ]
        }
      ]
    }
  ],
  "metadata": {
    "colab": {
      "provenance": [],
      "toc_visible": true,
      "include_colab_link": true
    },
    "kernelspec": {
      "display_name": "Python 3",
      "name": "python3"
    },
    "language_info": {
      "name": "python"
    }
  },
  "nbformat": 4,
  "nbformat_minor": 0
}