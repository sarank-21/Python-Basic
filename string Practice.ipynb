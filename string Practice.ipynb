{
 "cells": [
  {
   "cell_type": "markdown",
   "id": "cbc88d40",
   "metadata": {},
   "source": [
    "1. Capitalize first letter\n",
    "Input: \"python\"\n",
    "Output: \"Python\""
   ]
  },
  {
   "cell_type": "code",
   "execution_count": null,
   "id": "86302752",
   "metadata": {},
   "outputs": [],
   "source": []
  },
  {
   "cell_type": "markdown",
   "id": "fbb0a232",
   "metadata": {},
   "source": [
    "2. Check if string starts with \"A\"\n",
    "Input: \"Apple\"\n",
    "Output: \"Starts with A\""
   ]
  },
  {
   "cell_type": "code",
   "execution_count": null,
   "id": "31b45488",
   "metadata": {},
   "outputs": [],
   "source": []
  },
  {
   "cell_type": "markdown",
   "id": "142c4082",
   "metadata": {},
   "source": [
    "3. Print each character on a new line\n",
    "Input: \"cat\"\n",
    "\n",
    "Output:\n",
    "\n",
    "c\n",
    "\n",
    "a\n",
    "\n",
    "t"
   ]
  },
  {
   "cell_type": "code",
   "execution_count": null,
   "id": "e68aadb7",
   "metadata": {},
   "outputs": [],
   "source": []
  },
  {
   "cell_type": "markdown",
   "id": "ef4322d1",
   "metadata": {},
   "source": [
    "4. Count vowels in a string\n",
    "Input: \"hello world\"\n",
    "Output: 3"
   ]
  },
  {
   "cell_type": "code",
   "execution_count": null,
   "id": "37336149",
   "metadata": {},
   "outputs": [],
   "source": []
  },
  {
   "cell_type": "markdown",
   "id": "e4f3577f",
   "metadata": {},
   "source": [
    "5. Reverse a string\n",
    "Input: \"data\"\n",
    "Output: \"atad\""
   ]
  },
  {
   "cell_type": "code",
   "execution_count": null,
   "id": "d7a6daee",
   "metadata": {},
   "outputs": [],
   "source": []
  },
  {
   "cell_type": "markdown",
   "id": "a852b6c4",
   "metadata": {},
   "source": [
    "6. Extract first 3 characters\n",
    "Input: \"elephant\"\n",
    "Output: \"ele\""
   ]
  },
  {
   "cell_type": "code",
   "execution_count": null,
   "id": "434a2f42",
   "metadata": {},
   "outputs": [],
   "source": []
  },
  {
   "cell_type": "markdown",
   "id": "d814f7e4",
   "metadata": {},
   "source": [
    "7. Replace spaces with underscore\n",
    "Input: \"my name is python\"\n",
    "Output: \"my_name_is_python\""
   ]
  },
  {
   "cell_type": "code",
   "execution_count": null,
   "id": "b541789f",
   "metadata": {},
   "outputs": [],
   "source": []
  },
  {
   "cell_type": "markdown",
   "id": "ca71f9ad",
   "metadata": {},
   "source": [
    "8. Check if string contains 'data'\n",
    "Input: \"data engineer\"\n",
    "Output: \"Yes\""
   ]
  },
  {
   "cell_type": "code",
   "execution_count": null,
   "id": "6936d6f6",
   "metadata": {},
   "outputs": [],
   "source": []
  },
  {
   "cell_type": "markdown",
   "id": "84065130",
   "metadata": {},
   "source": [
    "9. Repeat string n times\n",
    "Input: \"hi\", 3\n",
    "Output: \"hihihi\""
   ]
  },
  {
   "cell_type": "code",
   "execution_count": null,
   "id": "626d7d40",
   "metadata": {},
   "outputs": [],
   "source": []
  },
  {
   "cell_type": "markdown",
   "id": "5668a7c2",
   "metadata": {},
   "source": [
    "10. Count how many times 'a' appears\n",
    "Input: \"banana\"\n",
    "Output: 3"
   ]
  },
  {
   "cell_type": "code",
   "execution_count": null,
   "id": "4be074cc",
   "metadata": {},
   "outputs": [],
   "source": []
  },
  {
   "cell_type": "markdown",
   "id": "08eea444",
   "metadata": {},
   "source": [
    "11. Convert to uppercase\n",
    "Input: \"hello\"\n",
    "Output: \"HELLO\""
   ]
  },
  {
   "cell_type": "code",
   "execution_count": null,
   "id": "db1243b5",
   "metadata": {},
   "outputs": [],
   "source": []
  },
  {
   "cell_type": "markdown",
   "id": "c4359b01",
   "metadata": {},
   "source": [
    "12. Format a welcome message\n",
    "Input: name = \"Sam\"\n",
    "Output: \"Welcome, Sam!\""
   ]
  },
  {
   "cell_type": "code",
   "execution_count": null,
   "id": "7219dc0c",
   "metadata": {},
   "outputs": [],
   "source": []
  },
  {
   "cell_type": "markdown",
   "id": "989cdf8e",
   "metadata": {},
   "source": [
    "13. Print only even indexed characters\n",
    "Input: \"python\"\n",
    "Output: \"pto\""
   ]
  },
  {
   "cell_type": "code",
   "execution_count": null,
   "id": "4115eebb",
   "metadata": {},
   "outputs": [],
   "source": []
  },
  {
   "cell_type": "markdown",
   "id": "b050e31a",
   "metadata": {},
   "source": [
    "14. Check if a string is palindrome\n",
    "Input: \"madam\"\n",
    "Output: \"Palindrome\""
   ]
  },
  {
   "cell_type": "code",
   "execution_count": null,
   "id": "b23a42e7",
   "metadata": {},
   "outputs": [],
   "source": []
  },
  {
   "cell_type": "markdown",
   "id": "8a14dd51",
   "metadata": {},
   "source": [
    "15. Concatenate first and last character\n",
    "Input: \"engineer\"\n",
    "Output: \"er\""
   ]
  },
  {
   "cell_type": "code",
   "execution_count": null,
   "id": "6ae779b2",
   "metadata": {},
   "outputs": [],
   "source": []
  },
  {
   "cell_type": "markdown",
   "id": "55d64d12",
   "metadata": {},
   "source": [
    "16. Title case the string\n",
    "Input: \"hello world\"\n",
    "Output: \"Hello World\""
   ]
  },
  {
   "cell_type": "code",
   "execution_count": null,
   "id": "161cec31",
   "metadata": {},
   "outputs": [],
   "source": []
  },
  {
   "cell_type": "markdown",
   "id": "a51c51c8",
   "metadata": {},
   "source": [
    "17. Add * between each character\n",
    "Input: \"code\"\n",
    "Output: \"c*o*d*e\""
   ]
  },
  {
   "cell_type": "code",
   "execution_count": null,
   "id": "b982219c",
   "metadata": {},
   "outputs": [],
   "source": []
  },
  {
   "cell_type": "markdown",
   "id": "9d03a698",
   "metadata": {},
   "source": [
    "18. Get last 4 characters\n",
    "Input: \"development\"\n",
    "Output: \"ment\""
   ]
  },
  {
   "cell_type": "code",
   "execution_count": null,
   "id": "7a616d79",
   "metadata": {},
   "outputs": [],
   "source": []
  },
  {
   "cell_type": "markdown",
   "id": "ec5554ae",
   "metadata": {},
   "source": [
    "19. Mask all except last 4 characters with *\n",
    "Input: \"1234567890\"\n",
    "Output: \"******7890\""
   ]
  },
  {
   "cell_type": "code",
   "execution_count": null,
   "id": "159c286c",
   "metadata": {},
   "outputs": [],
   "source": []
  },
  {
   "cell_type": "markdown",
   "id": "0046894a",
   "metadata": {},
   "source": [
    "20. Find index of 'e'\n",
    "Input: \"hello\"\n",
    "Output: 1"
   ]
  },
  {
   "cell_type": "code",
   "execution_count": null,
   "id": "cc6dc014",
   "metadata": {},
   "outputs": [],
   "source": []
  },
  {
   "cell_type": "markdown",
   "id": "82178ba3",
   "metadata": {},
   "source": [
    "21. Check if string has numbers\n",
    "Input: \"abc123\"\n",
    "Output: \"Contains Numbers\""
   ]
  },
  {
   "cell_type": "code",
   "execution_count": null,
   "id": "c8ff1be5",
   "metadata": {},
   "outputs": [],
   "source": []
  },
  {
   "cell_type": "markdown",
   "id": "c6706ae5",
   "metadata": {},
   "source": [
    "22. Count digits in a string\n",
    "Input: \"a1b2c3\"\n",
    "Output: 3"
   ]
  },
  {
   "cell_type": "code",
   "execution_count": null,
   "id": "d59eb102",
   "metadata": {},
   "outputs": [],
   "source": []
  },
  {
   "cell_type": "markdown",
   "id": "14763083",
   "metadata": {},
   "source": [
    "23. Remove vowels\n",
    "Input: \"education\"\n",
    "Output: \"dctn\""
   ]
  },
  {
   "cell_type": "code",
   "execution_count": null,
   "id": "9b34da96",
   "metadata": {},
   "outputs": [],
   "source": []
  },
  {
   "cell_type": "markdown",
   "id": "1e82eaab",
   "metadata": {},
   "source": [
    "24. Create acronym from phrase\n",
    "Input: \"Data Science\"\n",
    "Output: \"DS\""
   ]
  },
  {
   "cell_type": "code",
   "execution_count": null,
   "id": "38dc4bef",
   "metadata": {},
   "outputs": [],
   "source": []
  },
  {
   "cell_type": "markdown",
   "id": "4e00d4c2",
   "metadata": {},
   "source": [
    "25. Replace 'a' with '@'\n",
    "Input: \"alphabet\"\n",
    "Output: \"@lph@bet\""
   ]
  },
  {
   "cell_type": "code",
   "execution_count": null,
   "id": "124bc962",
   "metadata": {},
   "outputs": [],
   "source": []
  },
  {
   "cell_type": "markdown",
   "id": "24e7146d",
   "metadata": {},
   "source": [
    "26. Print string in staircase pattern\n",
    "Input: \"test\"\n",
    "\n",
    "Output:\n",
    "\n",
    "t\n",
    "te\n",
    "tes\n",
    "test"
   ]
  },
  {
   "cell_type": "code",
   "execution_count": null,
   "id": "2c356ebe",
   "metadata": {},
   "outputs": [],
   "source": []
  },
  {
   "cell_type": "markdown",
   "id": "65322ca1",
   "metadata": {},
   "source": [
    "27. Count lowercase and uppercase\n",
    "Input: \"HeLLo\"\n",
    "Output: \"Lower: 2, Upper: 3\""
   ]
  },
  {
   "cell_type": "code",
   "execution_count": null,
   "id": "8870ec6a",
   "metadata": {},
   "outputs": [],
   "source": []
  },
  {
   "cell_type": "markdown",
   "id": "b9f12f68",
   "metadata": {},
   "source": [
    "28. Print first half of string\n",
    "Input: \"python\"\n",
    "Output: \"pyt\""
   ]
  },
  {
   "cell_type": "code",
   "execution_count": null,
   "id": "6bfb3949",
   "metadata": {},
   "outputs": [],
   "source": []
  },
  {
   "cell_type": "markdown",
   "id": "960c5c7d",
   "metadata": {},
   "source": [
    "29. Add space after every 2 characters\n",
    "Input: \"abcdef\"\n",
    "Output: \"ab cd ef\""
   ]
  },
  {
   "cell_type": "code",
   "execution_count": null,
   "id": "acac236b",
   "metadata": {},
   "outputs": [],
   "source": []
  },
  {
   "cell_type": "markdown",
   "id": "62b8abb9",
   "metadata": {},
   "source": [
    "30. Extract middle character (odd length only)\n",
    "Input: \"hello\"\n",
    "Output: \"l\""
   ]
  },
  {
   "cell_type": "code",
   "execution_count": null,
   "id": "9b5bddd6",
   "metadata": {},
   "outputs": [],
   "source": []
  }
 ],
 "metadata": {
  "language_info": {
   "name": "python"
  }
 },
 "nbformat": 4,
 "nbformat_minor": 5
}
